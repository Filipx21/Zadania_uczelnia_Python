{
 "cells": [
  {
   "cell_type": "code",
   "execution_count": 1,
   "metadata": {},
   "outputs": [],
   "source": [
    "#Zad1\n",
    "import pandas as pd\n",
    "import requests\n",
    "\n",
    "#Pobieranie danych jako listy słowników\n",
    "def pobieranie_danych(start_date, end_date, currency):\n",
    "    request_url = 'http://api.nbp.pl/api/exchangerates/rates/A/' + currency + '/' + start_date + '/' + end_date + '/'\n",
    "    currency_req = requests.get(request_url)\n",
    "    currency_data = currency_req.json()\n",
    "    return currency_data['rates'] \n",
    "\n",
    "#Wykorzystanie powyższej funkcji do pobrania danych jako dataframe\n",
    "def pobieranie_danych_jako_dataframe(start_date, end_date, currency):\n",
    "    currency_data = pobieranie_danych(start_date, end_date, currency)\n",
    "    return pd.DataFrame.from_dict(currency_data)"
   ]
  },
  {
   "cell_type": "code",
   "execution_count": 2,
   "metadata": {},
   "outputs": [],
   "source": [
    "#Zad2\n",
    "usd = pobieranie_danych_jako_dataframe('2019-09-01', '2019-09-30', 'USD')\n",
    "eur = pobieranie_danych_jako_dataframe('2019-09-01', '2019-09-30', 'EUR')"
   ]
  },
  {
   "cell_type": "code",
   "execution_count": 3,
   "metadata": {},
   "outputs": [
    {
     "name": "stdout",
     "output_type": "stream",
     "text": [
      "datetime64[ns]\n",
      "                  mid\n",
      "effectiveDate        \n",
      "2019-09-02     3.9819\n",
      "2019-09-03     3.9882\n",
      "2019-09-04     3.9414\n",
      "2019-09-05     3.9330\n",
      "2019-09-06     3.9315\n",
      "datetime64[ns]\n",
      "                  mid\n",
      "effectiveDate        \n",
      "2019-09-02     4.3691\n",
      "2019-09-03     4.3667\n",
      "2019-09-04     4.3385\n",
      "2019-09-05     4.3409\n",
      "2019-09-06     4.3392\n"
     ]
    }
   ],
   "source": [
    "#Zad3\n",
    "import pandas as pd\n",
    "\n",
    "usd['effectiveDate'] = pd.to_datetime(usd['effectiveDate']) \n",
    "print(usd['effectiveDate'].dtypes) \n",
    "usd = usd.set_index(\"effectiveDate\").drop(columns='no')\n",
    "print(usd.head())\n",
    "\n",
    "eur['effectiveDate'] = pd.to_datetime(eur['effectiveDate']) \n",
    "print(eur['effectiveDate'].dtypes) \n",
    "eur = eur.set_index(\"effectiveDate\").drop(columns='no') \n",
    "print(eur.head())"
   ]
  },
  {
   "cell_type": "code",
   "execution_count": 4,
   "metadata": {},
   "outputs": [
    {
     "name": "stdout",
     "output_type": "stream",
     "text": [
      "[[1.         0.95958617]\n",
      " [0.95958617 1.        ]]\n"
     ]
    }
   ],
   "source": [
    "#zad 4\n",
    "from numpy import corrcoef, array\n",
    "\n",
    "usd = pobieranie_danych('2019-09-01', '2019-09-30', 'USD')  \n",
    "eur = pobieranie_danych('2019-09-01', '2019-09-30', 'EUR')\n",
    "\n",
    "usd2 = []\n",
    "for tmp in usd:\n",
    "    usd2.append(tmp['mid'])\n",
    "\n",
    "eur2 = []\n",
    "for tmp in eur:\n",
    "    eur2.append(tmp['mid'])\n",
    "\n",
    "print(corrcoef(array(usd2), array(eur2)))"
   ]
  },
  {
   "cell_type": "code",
   "execution_count": 6,
   "metadata": {},
   "outputs": [
    {
     "data": {
      "image/png": "[encoded data removed]",
      "text/plain": [
       "<Figure size 432x288 with 2 Axes>"
      ]
     },
     "metadata": {
      "needs_background": "light"
     },
     "output_type": "display_data"
    }
   ],
   "source": [
    "#Zad5\n",
    "import matplotlib.pyplot as plt\n",
    "\n",
    "dane_wykres_usd = pobieranie_danych_jako_dataframe('2019-09-01', '2019-09-30', 'USD').set_index(['effectiveDate'])['mid']\n",
    "dane_wykres_eur = pobieranie_danych_jako_dataframe('2019-09-01', '2019-09-30', 'EUR').set_index(['effectiveDate'])['mid']\n",
    "\n",
    "fig, axs = plt.subplots(1,2, sharex=True, sharey=True) \n",
    "axs[0].plot(dane_wykres_usd) \n",
    "axs[1].plot(dane_wykres_eur) \n",
    "\n",
    "fig.autofmt_xdate() \n",
    "tmp_x=9\n",
    "axs[0].xaxis.set_major_locator(plt.MaxNLocator(tmp_x))\n",
    "\n",
    "plt.show()"
   ]
  },
  {
   "cell_type": "code",
   "execution_count": null,
   "metadata": {},
   "outputs": [],
   "source": []
  }
 ],
 "metadata": {
  "kernelspec": {
   "display_name": "Python 3",
   "language": "python",
   "name": "python3"
  },
  "language_info": {
   "codemirror_mode": {
    "name": "ipython",
    "version": 3
   },
   "file_extension": ".py",
   "mimetype": "text/x-python",
   "name": "python",
   "nbconvert_exporter": "python",
   "pygments_lexer": "ipython3",
   "version": "3.7.4"
  }
 },
 "nbformat": 4,
 "nbformat_minor": 4
}
